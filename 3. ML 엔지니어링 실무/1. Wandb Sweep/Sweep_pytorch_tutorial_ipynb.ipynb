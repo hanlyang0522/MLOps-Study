{
  "cells": [
    {
      "cell_type": "markdown",
      "metadata": {
        "id": "ysEKBCmI4HSY"
      },
      "source": [
        "# Sweep pytorch tutorial\n",
        "\n",
        "📢 해당 노트북은 Wandb 공식 홈페이지 중 다음 내용을 참고했습니다.\n",
        "  \n",
        "[Organizing Hyperparameter Sweeps in PyTorch with W&B](https://colab.research.google.com/github/wandb/examples/blob/master/colabs/pytorch/Organizing_Hyperparameter_Sweeps_in_PyTorch_with_W%26B.ipynb#scrollTo=6IgMNFFT2qe_)  \n",
        "[Sweep from Jupyter Notebook](https://docs.wandb.ai/v/ko/sweeps/python-api)  \n",
        "\n",
        "\n",
        "### 목차  \n",
        "Step 0: W&B Setup하기  \n",
        "Step 1: Congfig 정의하기  \n",
        "Step 2: Dataloader 함수 정의하기  \n",
        "Step 3: 모델 정의하기  \n",
        "Step 4: Train 함수와 Vaild 함수 정의하기  \n",
        "Step 5: Sweep 실행하기  "
      ]
    },
    {
      "cell_type": "markdown",
      "metadata": {
        "id": "ajOuj-qA4HSb"
      },
      "source": [
        "## Step 0: W&B Setup하기\n",
        "colab에서 WandB를 사용하려면 wandb modul을 install 해야합니다."
      ]
    },
    {
      "cell_type": "code",
      "execution_count": 5,
      "metadata": {
        "id": "8TVDfr4lSZwq"
      },
      "outputs": [
        {
          "name": "stdout",
          "output_type": "stream",
          "text": [
            "cpu\n"
          ]
        }
      ],
      "source": [
        "from torchvision import datasets, transforms\n",
        "from torch.utils.data import DataLoader\n",
        "import torch\n",
        "import torch.nn as nn\n",
        "import torch.optim as optim\n",
        "import wandb\n",
        "import math\n",
        "DEVICE = \"cuda\" if torch.cuda.is_available() else \"cpu\"\n",
        "\n",
        "print(DEVICE)"
      ]
    },
    {
      "cell_type": "code",
      "execution_count": 6,
      "metadata": {
        "id": "8FsG549O4HSc"
      },
      "outputs": [],
      "source": [
        "%%capture\n",
        "!pip install wandb --upgrade"
      ]
    },
    {
      "cell_type": "code",
      "execution_count": 17,
      "metadata": {
        "id": "1KOburhAShIc"
      },
      "outputs": [
        {
          "data": {
            "text/plain": [
              "True"
            ]
          },
          "execution_count": 17,
          "metadata": {},
          "output_type": "execute_result"
        }
      ],
      "source": [
        "import wandb\n",
        "\n",
        "wandb.login()"
      ]
    },
    {
      "cell_type": "markdown",
      "metadata": {
        "id": "kHyx1L5STTaW"
      },
      "source": [
        "## Step1. Config 정의하기\n",
        "\n",
        "sweep에 필요한 config 파일을 정의합니다."
      ]
    },
    {
      "cell_type": "code",
      "execution_count": 8,
      "metadata": {
        "id": "oCtuPcO7ShFm"
      },
      "outputs": [],
      "source": [
        "sweep_config = {\n",
        "    'name' : 'bayes-test',\n",
        "    'method': 'random',\n",
        "    'metric' : {\n",
        "        'name': 'val_loss',\n",
        "        'goal': 'minimize'\n",
        "        },\n",
        "    'parameters' : {\n",
        "        'optimizer': {\n",
        "            'values': ['adam', 'sgd']\n",
        "            },\n",
        "        'dropout': {\n",
        "            'values': [0.3, 0.4]\n",
        "            },\n",
        "        'learning_rate': {\n",
        "            'distribution': 'uniform',\n",
        "            'min': 0,\n",
        "            'max': 0.1\n",
        "            },\n",
        "        'epochs': {\n",
        "            'values': [5, 6]\n",
        "            },\n",
        "        'batch_size': {\n",
        "            'distribution': 'q_log_uniform',\n",
        "            'q': 1,\n",
        "            'min': math.log(32),\n",
        "            'max': math.log(256),\n",
        "            }\n",
        "        }\n",
        "    }"
      ]
    },
    {
      "cell_type": "code",
      "execution_count": 28,
      "metadata": {},
      "outputs": [
        {
          "name": "stdout",
          "output_type": "stream",
          "text": [
            "{'method': 'random',\n",
            " 'metric': {'goal': 'minimize', 'name': 'val_loss'},\n",
            " 'name': 'bayes-test',\n",
            " 'parameters': {'batch_size': {'distribution': 'q_log_uniform',\n",
            "                               'max': 5.545177444479562,\n",
            "                               'min': 3.4657359027997265,\n",
            "                               'q': 1},\n",
            "                'dropout': {'values': [0.3, 0.4]},\n",
            "                'epochs': {'values': [5, 6]},\n",
            "                'learning_rate': {'distribution': 'uniform',\n",
            "                                  'max': 0.1,\n",
            "                                  'min': 0},\n",
            "                'optimizer': {'values': ['adam', 'sgd']}}}\n"
          ]
        }
      ],
      "source": [
        "import pprint\n",
        "pprint.pprint(sweep_config)"
      ]
    },
    {
      "cell_type": "markdown",
      "metadata": {
        "id": "TBBWJbcYaDzb"
      },
      "source": [
        "## Step2. Dataloader 함수 정의하기\n",
        "mnist 함수를 사용해서 dataloader를 구성하겠습니다."
      ]
    },
    {
      "cell_type": "code",
      "execution_count": 9,
      "metadata": {
        "id": "h3NwvXGdShDO"
      },
      "outputs": [],
      "source": [
        "def SweepDataset(batch_size):\n",
        "    transform = transforms.Compose(\n",
        "        [transforms.ToTensor(),\n",
        "         transforms.Normalize((0.1307,), (0.3081,))])\n",
        "\n",
        "    train_data = datasets.MNIST(\".\",\n",
        "                train=True,\n",
        "                download=True,\n",
        "                transform=transform)\n",
        "\n",
        "    test_data = datasets.MNIST(\".\",\n",
        "                train=False,\n",
        "                download=True,\n",
        "                transform=transform)\n",
        "\n",
        "\n",
        "    train_loader = DataLoader(train_data, batch_size=batch_size)\n",
        "    test_loader = DataLoader(test_data, batch_size=batch_size)\n",
        "\n",
        "    return train_loader, test_loader"
      ]
    },
    {
      "cell_type": "markdown",
      "metadata": {
        "id": "bc2GfRccaH7c"
      },
      "source": [
        "## Step3. 모델 정의하기\n",
        "모델과 optimizer를 정의해줍니다."
      ]
    },
    {
      "cell_type": "code",
      "execution_count": 10,
      "metadata": {
        "id": "om_xkH-_ShAk"
      },
      "outputs": [],
      "source": [
        "class ConvNet(nn.Module):\n",
        "    def __init__(self, dropout):\n",
        "        super(ConvNet, self).__init__()\n",
        "        self.layer1 = nn.Sequential(\n",
        "            nn.Conv2d(1, 32, 3, 1, 1), nn.ReLU(),\n",
        "            nn.MaxPool2d(2, 2))\n",
        "        self.layer2 = nn.Sequential(\n",
        "            nn.Conv2d(32, 64, 3, 1, 1), nn.ReLU(),\n",
        "            nn.MaxPool2d(2, 2))\n",
        "        self.layer3 = nn.Sequential(\n",
        "            nn.Linear(64 * 7 * 7, 128, bias=True), nn.ReLU(),\n",
        "            nn.Dropout2d(p=dropout))\n",
        "        self.layer4 = nn.Sequential(\n",
        "            nn.Linear(128, 84), nn.ReLU(),\n",
        "            nn.Dropout2d(p=dropout))\n",
        "        self.fc3 = nn.Linear(84, 10)\n",
        "\n",
        "    def forward(self, x):\n",
        "        x = self.layer1(x)\n",
        "        x = self.layer2(x)\n",
        "        x = x.view(x.size(0),-1)\n",
        "        x = self.layer3(x)\n",
        "        x = self.layer4(x)\n",
        "        x = self.fc3(x)\n",
        "        return x"
      ]
    },
    {
      "cell_type": "code",
      "execution_count": 11,
      "metadata": {
        "id": "bzCoH_hpT7qI"
      },
      "outputs": [],
      "source": [
        "def build_optimizer(network, optimizer, learning_rate):\n",
        "    if optimizer == \"sgd\":\n",
        "        optimizer = optim.SGD(network.parameters(),\n",
        "                              lr=learning_rate, momentum=0.9)\n",
        "    elif optimizer == \"adam\":\n",
        "        optimizer = optim.Adam(network.parameters(),\n",
        "                               lr=learning_rate)\n",
        "    return optimizer"
      ]
    },
    {
      "cell_type": "markdown",
      "metadata": {
        "id": "CYZAPlIKaMZ2"
      },
      "source": [
        "## Step4. Train 함수와 Vaild함수 정의하기\n",
        "train함수는 학습을 진행하면서 loss를 출력합니다.  \n",
        "vaild함수는 학습 중간에 Accuracy를 사용해서 평가합니다."
      ]
    },
    {
      "cell_type": "code",
      "execution_count": 12,
      "metadata": {
        "id": "SFX6aIXpSg9s"
      },
      "outputs": [],
      "source": [
        "def train(model, loader, criterion, optimizer, device, config, wandb):\n",
        "    model.train()\n",
        "    wandb.watch(model, criterion, log=\"all\", log_freq=10)\n",
        "\n",
        "    for epoch in range(config.epochs):\n",
        "        cumu_loss = 0\n",
        "        for images, labels in loader:\n",
        "            images, labels  = images.to(device), labels.to(device)\n",
        "\n",
        "            output = model(images)\n",
        "            loss = criterion(output, labels)\n",
        "            cumu_loss += loss.item()\n",
        "\n",
        "            optimizer.zero_grad()\n",
        "            loss.backward()\n",
        "            optimizer.step()\n",
        "\n",
        "        avg_loss = cumu_loss / len(loader)\n",
        "        wandb.log({\"train_loss\": avg_loss}, step=epoch)\n",
        "        print(f\"TRAIN: EPOCH {epoch + 1:04d} / {config.epochs:04d} | Epoch LOSS {avg_loss:.4f}\")"
      ]
    },
    {
      "cell_type": "code",
      "execution_count": 13,
      "metadata": {
        "id": "LLehH0A5pKER"
      },
      "outputs": [],
      "source": [
        "def vaild(model, loader, criterion, device,  wandb):\n",
        "    model.eval()\n",
        "\n",
        "    with torch.no_grad():\n",
        "        correct, test_loss = 0, 0\n",
        "        for data, target in loader:\n",
        "            data, target = data.to(device), target.to(device)\n",
        "            output = model(data)\n",
        "\n",
        "            test_loss += criterion(output, target).item()\n",
        "\n",
        "            pred = output.max(1, keepdim=True)[1]\n",
        "            correct += pred.eq(target.view_as(pred)).sum().item()\n",
        "\n",
        "\n",
        "    val_loss = test_loss / len(loader)\n",
        "    print(f\"VALID: LOSS {val_loss:.4f} | Accuracy {val_loss:.4f} \")\n",
        "    wandb.log({\n",
        "        \"val_acc\": 100. * correct / len(loader.dataset),\n",
        "        \"val_loss\": val_loss})"
      ]
    },
    {
      "cell_type": "markdown",
      "metadata": {
        "id": "lmJSYYDzYpu3"
      },
      "source": [
        "## Step5. Sweep 실행하기"
      ]
    },
    {
      "cell_type": "code",
      "execution_count": 14,
      "metadata": {
        "id": "SMADlVI6Sg7H"
      },
      "outputs": [],
      "source": [
        "def run_sweeep(config=None):\n",
        "    wandb.init(config=config)\n",
        "\n",
        "    w_config = wandb.config\n",
        "\n",
        "    criterion = nn.CrossEntropyLoss()\n",
        "    train_loader, vaild_loader = SweepDataset(w_config.batch_size)\n",
        "    model = ConvNet(w_config.dropout).to(DEVICE)\n",
        "    optimizer = build_optimizer(model, w_config.optimizer, w_config.learning_rate)\n",
        "\n",
        "    train(model, train_loader, criterion, optimizer, DEVICE, w_config, wandb)\n",
        "    vaild(model, vaild_loader, criterion, DEVICE, wandb)"
      ]
    },
    {
      "cell_type": "code",
      "execution_count": 29,
      "metadata": {
        "id": "gi7BCOC3Sgro"
      },
      "outputs": [
        {
          "name": "stderr",
          "output_type": "stream",
          "text": [
            "\u001b[34m\u001b[1mwandb\u001b[0m: \u001b[32m\u001b[41mERROR\u001b[0m Error while calling W&B API: project not found (<Response [404]>)\n"
          ]
        },
        {
          "ename": "UsageError",
          "evalue": "project not found",
          "output_type": "error",
          "traceback": [
            "\u001b[31m---------------------------------------------------------------------------\u001b[39m",
            "\u001b[31mHTTPError\u001b[39m                                 Traceback (most recent call last)",
            "\u001b[36mFile \u001b[39m\u001b[32mc:\\Users\\500ny\\.conda\\envs\\MLStudy\\Lib\\site-packages\\wandb\\sdk\\lib\\retry.py:158\u001b[39m, in \u001b[36mRetry.__call__\u001b[39m\u001b[34m(self, num_retries, retry_timedelta, retry_sleep_base, retry_cancel_event, check_retry_fn, *args, **kwargs)\u001b[39m\n\u001b[32m    157\u001b[39m \u001b[38;5;28;01mtry\u001b[39;00m:\n\u001b[32m--> \u001b[39m\u001b[32m158\u001b[39m     result = \u001b[38;5;28;43mself\u001b[39;49m\u001b[43m.\u001b[49m\u001b[43m_call_fn\u001b[49m\u001b[43m(\u001b[49m\u001b[43m*\u001b[49m\u001b[43margs\u001b[49m\u001b[43m,\u001b[49m\u001b[43m \u001b[49m\u001b[43m*\u001b[49m\u001b[43m*\u001b[49m\u001b[43mkwargs\u001b[49m\u001b[43m)\u001b[49m\n\u001b[32m    160\u001b[39m \u001b[38;5;28;01mexcept\u001b[39;00m \u001b[38;5;28mself\u001b[39m._retryable_exceptions \u001b[38;5;28;01mas\u001b[39;00m e:\n",
            "\u001b[36mFile \u001b[39m\u001b[32mc:\\Users\\500ny\\.conda\\envs\\MLStudy\\Lib\\site-packages\\wandb\\sdk\\internal\\internal_api.py:398\u001b[39m, in \u001b[36mApi.execute\u001b[39m\u001b[34m(self, *args, **kwargs)\u001b[39m\n\u001b[32m    397\u001b[39m \u001b[38;5;28;01mtry\u001b[39;00m:\n\u001b[32m--> \u001b[39m\u001b[32m398\u001b[39m     \u001b[38;5;28;01mreturn\u001b[39;00m \u001b[38;5;28;43mself\u001b[39;49m\u001b[43m.\u001b[49m\u001b[43mclient\u001b[49m\u001b[43m.\u001b[49m\u001b[43mexecute\u001b[49m\u001b[43m(\u001b[49m\u001b[43m*\u001b[49m\u001b[43margs\u001b[49m\u001b[43m,\u001b[49m\u001b[43m \u001b[49m\u001b[43m*\u001b[49m\u001b[43m*\u001b[49m\u001b[43mkwargs\u001b[49m\u001b[43m)\u001b[49m  \u001b[38;5;66;03m# type: ignore\u001b[39;00m\n\u001b[32m    399\u001b[39m \u001b[38;5;28;01mexcept\u001b[39;00m requests.exceptions.HTTPError \u001b[38;5;28;01mas\u001b[39;00m err:\n",
            "\u001b[36mFile \u001b[39m\u001b[32mc:\\Users\\500ny\\.conda\\envs\\MLStudy\\Lib\\site-packages\\wandb\\vendor\\gql-0.2.0\\wandb_gql\\client.py:52\u001b[39m, in \u001b[36mClient.execute\u001b[39m\u001b[34m(self, document, *args, **kwargs)\u001b[39m\n\u001b[32m     50\u001b[39m     \u001b[38;5;28mself\u001b[39m.validate(document)\n\u001b[32m---> \u001b[39m\u001b[32m52\u001b[39m result = \u001b[38;5;28;43mself\u001b[39;49m\u001b[43m.\u001b[49m\u001b[43m_get_result\u001b[49m\u001b[43m(\u001b[49m\u001b[43mdocument\u001b[49m\u001b[43m,\u001b[49m\u001b[43m \u001b[49m\u001b[43m*\u001b[49m\u001b[43margs\u001b[49m\u001b[43m,\u001b[49m\u001b[43m \u001b[49m\u001b[43m*\u001b[49m\u001b[43m*\u001b[49m\u001b[43mkwargs\u001b[49m\u001b[43m)\u001b[49m\n\u001b[32m     53\u001b[39m \u001b[38;5;28;01mif\u001b[39;00m result.errors:\n",
            "\u001b[36mFile \u001b[39m\u001b[32mc:\\Users\\500ny\\.conda\\envs\\MLStudy\\Lib\\site-packages\\wandb\\vendor\\gql-0.2.0\\wandb_gql\\client.py:60\u001b[39m, in \u001b[36mClient._get_result\u001b[39m\u001b[34m(self, document, *args, **kwargs)\u001b[39m\n\u001b[32m     59\u001b[39m \u001b[38;5;28;01mif\u001b[39;00m \u001b[38;5;129;01mnot\u001b[39;00m \u001b[38;5;28mself\u001b[39m.retries:\n\u001b[32m---> \u001b[39m\u001b[32m60\u001b[39m     \u001b[38;5;28;01mreturn\u001b[39;00m \u001b[38;5;28;43mself\u001b[39;49m\u001b[43m.\u001b[49m\u001b[43mtransport\u001b[49m\u001b[43m.\u001b[49m\u001b[43mexecute\u001b[49m\u001b[43m(\u001b[49m\u001b[43mdocument\u001b[49m\u001b[43m,\u001b[49m\u001b[43m \u001b[49m\u001b[43m*\u001b[49m\u001b[43margs\u001b[49m\u001b[43m,\u001b[49m\u001b[43m \u001b[49m\u001b[43m*\u001b[49m\u001b[43m*\u001b[49m\u001b[43mkwargs\u001b[49m\u001b[43m)\u001b[49m\n\u001b[32m     62\u001b[39m last_exception = \u001b[38;5;28;01mNone\u001b[39;00m\n",
            "\u001b[36mFile \u001b[39m\u001b[32mc:\\Users\\500ny\\.conda\\envs\\MLStudy\\Lib\\site-packages\\wandb\\sdk\\lib\\gql_request.py:70\u001b[39m, in \u001b[36mGraphQLSession.execute\u001b[39m\u001b[34m(self, document, variable_values, timeout)\u001b[39m\n\u001b[32m     69\u001b[39m request = \u001b[38;5;28mself\u001b[39m.session.post(\u001b[38;5;28mself\u001b[39m.url, **post_args)\n\u001b[32m---> \u001b[39m\u001b[32m70\u001b[39m \u001b[43mrequest\u001b[49m\u001b[43m.\u001b[49m\u001b[43mraise_for_status\u001b[49m\u001b[43m(\u001b[49m\u001b[43m)\u001b[49m\n\u001b[32m     72\u001b[39m result = request.json()\n",
            "\u001b[36mFile \u001b[39m\u001b[32mc:\\Users\\500ny\\.conda\\envs\\MLStudy\\Lib\\site-packages\\requests\\models.py:1026\u001b[39m, in \u001b[36mResponse.raise_for_status\u001b[39m\u001b[34m(self)\u001b[39m\n\u001b[32m   1025\u001b[39m \u001b[38;5;28;01mif\u001b[39;00m http_error_msg:\n\u001b[32m-> \u001b[39m\u001b[32m1026\u001b[39m     \u001b[38;5;28;01mraise\u001b[39;00m HTTPError(http_error_msg, response=\u001b[38;5;28mself\u001b[39m)\n",
            "\u001b[31mHTTPError\u001b[39m: 404 Client Error: Not Found for url: https://api.wandb.ai/graphql",
            "\nDuring handling of the above exception, another exception occurred:\n",
            "\u001b[31mUsageError\u001b[39m                                Traceback (most recent call last)",
            "\u001b[36mCell\u001b[39m\u001b[36m \u001b[39m\u001b[32mIn[29]\u001b[39m\u001b[32m, line 1\u001b[39m\n\u001b[32m----> \u001b[39m\u001b[32m1\u001b[39m sweep_id = \u001b[43mwandb\u001b[49m\u001b[43m.\u001b[49m\u001b[43msweep\u001b[49m\u001b[43m(\u001b[49m\u001b[43msweep_config\u001b[49m\u001b[43m,\u001b[49m\u001b[43m \u001b[49m\u001b[43mproject\u001b[49m\u001b[43m=\u001b[49m\u001b[33;43m\"\u001b[39;49m\u001b[33;43msweep_tutorial\u001b[39;49m\u001b[33;43m\"\u001b[39;49m\u001b[43m)\u001b[49m\n\u001b[32m      2\u001b[39m wandb.agent(sweep_id, run_sweeep, count=\u001b[32m6\u001b[39m)\n",
            "\u001b[36mFile \u001b[39m\u001b[32mc:\\Users\\500ny\\.conda\\envs\\MLStudy\\Lib\\site-packages\\wandb\\sdk\\wandb_sweep.py:87\u001b[39m, in \u001b[36msweep\u001b[39m\u001b[34m(sweep, entity, project, prior_runs)\u001b[39m\n\u001b[32m     85\u001b[39m     wandb_login._login(_silent=\u001b[38;5;28;01mTrue\u001b[39;00m)\n\u001b[32m     86\u001b[39m api = InternalApi()\n\u001b[32m---> \u001b[39m\u001b[32m87\u001b[39m sweep_id, warnings = \u001b[43mapi\u001b[49m\u001b[43m.\u001b[49m\u001b[43mupsert_sweep\u001b[49m\u001b[43m(\u001b[49m\u001b[43msweep\u001b[49m\u001b[43m,\u001b[49m\u001b[43m \u001b[49m\u001b[43mprior_runs\u001b[49m\u001b[43m=\u001b[49m\u001b[43mprior_runs\u001b[49m\u001b[43m)\u001b[49m\n\u001b[32m     88\u001b[39m handle_sweep_config_violations(warnings)\n\u001b[32m     89\u001b[39m \u001b[38;5;28mprint\u001b[39m(\u001b[33m\"\u001b[39m\u001b[33mCreate sweep with ID:\u001b[39m\u001b[33m\"\u001b[39m, sweep_id)  \u001b[38;5;66;03m# noqa: T201\u001b[39;00m\n",
            "\u001b[36mFile \u001b[39m\u001b[32mc:\\Users\\500ny\\.conda\\envs\\MLStudy\\Lib\\site-packages\\wandb\\apis\\internal.py:139\u001b[39m, in \u001b[36mApi.upsert_sweep\u001b[39m\u001b[34m(self, *args, **kwargs)\u001b[39m\n\u001b[32m    138\u001b[39m \u001b[38;5;28;01mdef\u001b[39;00m\u001b[38;5;250m \u001b[39m\u001b[34mupsert_sweep\u001b[39m(\u001b[38;5;28mself\u001b[39m, *args, **kwargs):\n\u001b[32m--> \u001b[39m\u001b[32m139\u001b[39m     \u001b[38;5;28;01mreturn\u001b[39;00m \u001b[38;5;28;43mself\u001b[39;49m\u001b[43m.\u001b[49m\u001b[43mapi\u001b[49m\u001b[43m.\u001b[49m\u001b[43mupsert_sweep\u001b[49m\u001b[43m(\u001b[49m\u001b[43m*\u001b[49m\u001b[43margs\u001b[49m\u001b[43m,\u001b[49m\u001b[43m \u001b[49m\u001b[43m*\u001b[49m\u001b[43m*\u001b[49m\u001b[43mkwargs\u001b[49m\u001b[43m)\u001b[49m\n",
            "\u001b[36mFile \u001b[39m\u001b[32mc:\\Users\\500ny\\.conda\\envs\\MLStudy\\Lib\\site-packages\\wandb\\apis\\normalize.py:27\u001b[39m, in \u001b[36mnormalize_exceptions.<locals>.wrapper\u001b[39m\u001b[34m(*args, **kwargs)\u001b[39m\n\u001b[32m     25\u001b[39m message = \u001b[33m\"\u001b[39m\u001b[33mWhoa, you found a bug.\u001b[39m\u001b[33m\"\u001b[39m\n\u001b[32m     26\u001b[39m \u001b[38;5;28;01mtry\u001b[39;00m:\n\u001b[32m---> \u001b[39m\u001b[32m27\u001b[39m     \u001b[38;5;28;01mreturn\u001b[39;00m \u001b[43mfunc\u001b[49m\u001b[43m(\u001b[49m\u001b[43m*\u001b[49m\u001b[43margs\u001b[49m\u001b[43m,\u001b[49m\u001b[43m \u001b[49m\u001b[43m*\u001b[49m\u001b[43m*\u001b[49m\u001b[43mkwargs\u001b[49m\u001b[43m)\u001b[49m\n\u001b[32m     29\u001b[39m \u001b[38;5;28;01mexcept\u001b[39;00m requests.HTTPError \u001b[38;5;28;01mas\u001b[39;00m error:\n\u001b[32m     30\u001b[39m     errors = parse_backend_error_messages(error.response)\n",
            "\u001b[36mFile \u001b[39m\u001b[32mc:\\Users\\500ny\\.conda\\envs\\MLStudy\\Lib\\site-packages\\wandb\\sdk\\internal\\internal_api.py:3371\u001b[39m, in \u001b[36mApi.upsert_sweep\u001b[39m\u001b[34m(self, config, controller, launch_scheduler, scheduler, obj_id, project, entity, state, prior_runs, display_name, template_variable_values)\u001b[39m\n\u001b[32m   3368\u001b[39m     \u001b[38;5;28;01mif\u001b[39;00m state:\n\u001b[32m   3369\u001b[39m         variables[\u001b[33m\"\u001b[39m\u001b[33mstate\u001b[39m\u001b[33m\"\u001b[39m] = state\n\u001b[32m-> \u001b[39m\u001b[32m3371\u001b[39m     response = \u001b[38;5;28;43mself\u001b[39;49m\u001b[43m.\u001b[49m\u001b[43mgql\u001b[49m\u001b[43m(\u001b[49m\n\u001b[32m   3372\u001b[39m \u001b[43m        \u001b[49m\u001b[43mmutation\u001b[49m\u001b[43m,\u001b[49m\n\u001b[32m   3373\u001b[39m \u001b[43m        \u001b[49m\u001b[43mvariable_values\u001b[49m\u001b[43m=\u001b[49m\u001b[43mvariables\u001b[49m\u001b[43m,\u001b[49m\n\u001b[32m   3374\u001b[39m \u001b[43m        \u001b[49m\u001b[43mcheck_retry_fn\u001b[49m\u001b[43m=\u001b[49m\u001b[43mutil\u001b[49m\u001b[43m.\u001b[49m\u001b[43mno_retry_4xx\u001b[49m\u001b[43m,\u001b[49m\n\u001b[32m   3375\u001b[39m \u001b[43m    \u001b[49m\u001b[43m)\u001b[49m\n\u001b[32m   3376\u001b[39m \u001b[38;5;28;01mexcept\u001b[39;00m UsageError:\n\u001b[32m   3377\u001b[39m     \u001b[38;5;28;01mraise\u001b[39;00m\n",
            "\u001b[36mFile \u001b[39m\u001b[32mc:\\Users\\500ny\\.conda\\envs\\MLStudy\\Lib\\site-packages\\wandb\\sdk\\internal\\internal_api.py:370\u001b[39m, in \u001b[36mApi.gql\u001b[39m\u001b[34m(self, *args, **kwargs)\u001b[39m\n\u001b[32m    369\u001b[39m \u001b[38;5;28;01mdef\u001b[39;00m\u001b[38;5;250m \u001b[39m\u001b[34mgql\u001b[39m(\u001b[38;5;28mself\u001b[39m, *args: Any, **kwargs: Any) -> Any:\n\u001b[32m--> \u001b[39m\u001b[32m370\u001b[39m     ret = \u001b[38;5;28;43mself\u001b[39;49m\u001b[43m.\u001b[49m\u001b[43m_retry_gql\u001b[49m\u001b[43m(\u001b[49m\n\u001b[32m    371\u001b[39m \u001b[43m        \u001b[49m\u001b[43m*\u001b[49m\u001b[43margs\u001b[49m\u001b[43m,\u001b[49m\n\u001b[32m    372\u001b[39m \u001b[43m        \u001b[49m\u001b[43mretry_cancel_event\u001b[49m\u001b[43m=\u001b[49m\u001b[38;5;28;43mself\u001b[39;49m\u001b[43m.\u001b[49m\u001b[43mcontext\u001b[49m\u001b[43m.\u001b[49m\u001b[43mcancel_event\u001b[49m\u001b[43m,\u001b[49m\n\u001b[32m    373\u001b[39m \u001b[43m        \u001b[49m\u001b[43m*\u001b[49m\u001b[43m*\u001b[49m\u001b[43mkwargs\u001b[49m\u001b[43m,\u001b[49m\n\u001b[32m    374\u001b[39m \u001b[43m    \u001b[49m\u001b[43m)\u001b[49m\n\u001b[32m    375\u001b[39m     \u001b[38;5;28;01mreturn\u001b[39;00m ret\n",
            "\u001b[36mFile \u001b[39m\u001b[32mc:\\Users\\500ny\\.conda\\envs\\MLStudy\\Lib\\site-packages\\wandb\\sdk\\lib\\retry.py:161\u001b[39m, in \u001b[36mRetry.__call__\u001b[39m\u001b[34m(self, num_retries, retry_timedelta, retry_sleep_base, retry_cancel_event, check_retry_fn, *args, **kwargs)\u001b[39m\n\u001b[32m    158\u001b[39m     result = \u001b[38;5;28mself\u001b[39m._call_fn(*args, **kwargs)\n\u001b[32m    160\u001b[39m \u001b[38;5;28;01mexcept\u001b[39;00m \u001b[38;5;28mself\u001b[39m._retryable_exceptions \u001b[38;5;28;01mas\u001b[39;00m e:\n\u001b[32m--> \u001b[39m\u001b[32m161\u001b[39m     \u001b[38;5;28;01mif\u001b[39;00m \u001b[38;5;129;01mnot\u001b[39;00m \u001b[43mretry_loop\u001b[49m\u001b[43m.\u001b[49m\u001b[43mshould_retry\u001b[49m\u001b[43m(\u001b[49m\u001b[43me\u001b[49m\u001b[43m)\u001b[49m:\n\u001b[32m    162\u001b[39m         \u001b[38;5;28;01mraise\u001b[39;00m\n\u001b[32m    164\u001b[39m     \u001b[38;5;28;01mif\u001b[39;00m \u001b[38;5;28mself\u001b[39m._num_iter == \u001b[32m2\u001b[39m:\n",
            "\u001b[36mFile \u001b[39m\u001b[32mc:\\Users\\500ny\\.conda\\envs\\MLStudy\\Lib\\site-packages\\wandb\\sdk\\lib\\retry.py:276\u001b[39m, in \u001b[36m_RetryLoop.should_retry\u001b[39m\u001b[34m(self, exception)\u001b[39m\n\u001b[32m    273\u001b[39m \u001b[38;5;28;01mif\u001b[39;00m now - \u001b[38;5;28mself\u001b[39m._start_time >= \u001b[38;5;28mself\u001b[39m._timeout:\n\u001b[32m    274\u001b[39m     \u001b[38;5;28;01mreturn\u001b[39;00m \u001b[38;5;28;01mFalse\u001b[39;00m\n\u001b[32m--> \u001b[39m\u001b[32m276\u001b[39m retry_check_result = \u001b[38;5;28;43mself\u001b[39;49m\u001b[43m.\u001b[49m\u001b[43m_retry_check\u001b[49m\u001b[43m(\u001b[49m\u001b[43mexception\u001b[49m\u001b[43m)\u001b[49m\n\u001b[32m    277\u001b[39m \u001b[38;5;28;01mif\u001b[39;00m \u001b[38;5;129;01mnot\u001b[39;00m retry_check_result:\n\u001b[32m    278\u001b[39m     \u001b[38;5;28;01mreturn\u001b[39;00m \u001b[38;5;28;01mFalse\u001b[39;00m\n",
            "\u001b[36mFile \u001b[39m\u001b[32mc:\\Users\\500ny\\.conda\\envs\\MLStudy\\Lib\\site-packages\\wandb\\util.py:913\u001b[39m, in \u001b[36mno_retry_4xx\u001b[39m\u001b[34m(e)\u001b[39m\n\u001b[32m    911\u001b[39m     \u001b[38;5;28;01mreturn\u001b[39;00m \u001b[38;5;28;01mTrue\u001b[39;00m\n\u001b[32m    912\u001b[39m body = json.loads(e.response.content)\n\u001b[32m--> \u001b[39m\u001b[32m913\u001b[39m \u001b[38;5;28;01mraise\u001b[39;00m UsageError(body[\u001b[33m\"\u001b[39m\u001b[33merrors\u001b[39m\u001b[33m\"\u001b[39m][\u001b[32m0\u001b[39m][\u001b[33m\"\u001b[39m\u001b[33mmessage\u001b[39m\u001b[33m\"\u001b[39m])\n",
            "\u001b[31mUsageError\u001b[39m: project not found"
          ]
        }
      ],
      "source": [
        "sweep_id = wandb.sweep(sweep_config, project=\"sweep_tutorial\")\n",
        "wandb.agent(sweep_id, run_sweeep, count=6)"
      ]
    },
    {
      "cell_type": "code",
      "execution_count": null,
      "metadata": {
        "id": "RfHH62X_4HSf"
      },
      "outputs": [],
      "source": []
    }
  ],
  "metadata": {
    "accelerator": "GPU",
    "colab": {
      "private_outputs": true,
      "provenance": []
    },
    "kernelspec": {
      "display_name": "MLStudy",
      "language": "python",
      "name": "python3"
    },
    "language_info": {
      "codemirror_mode": {
        "name": "ipython",
        "version": 3
      },
      "file_extension": ".py",
      "mimetype": "text/x-python",
      "name": "python",
      "nbconvert_exporter": "python",
      "pygments_lexer": "ipython3",
      "version": "3.11.13"
    }
  },
  "nbformat": 4,
  "nbformat_minor": 0
}
