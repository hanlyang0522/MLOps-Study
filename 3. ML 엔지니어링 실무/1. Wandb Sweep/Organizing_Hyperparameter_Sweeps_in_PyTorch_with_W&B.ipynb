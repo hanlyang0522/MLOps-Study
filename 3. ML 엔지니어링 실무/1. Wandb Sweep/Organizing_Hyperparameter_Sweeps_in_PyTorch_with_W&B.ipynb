{
  "cells": [
    {
      "cell_type": "markdown",
      "metadata": {
        "id": "p313fizX-4oj"
      },
      "source": [
        "<a href=\"https://colab.research.google.com/github/wandb/examples/blob/master/colabs/pytorch/Organizing_Hyperparameter_Sweeps_in_PyTorch_with_W&B.ipynb\" target=\"_parent\"><img src=\"https://colab.research.google.com/assets/colab-badge.svg\" alt=\"Open In Colab\"/></a>\n",
        "<!--- @wandbcode{sweeps-video} -->"
      ]
    },
    {
      "cell_type": "markdown",
      "metadata": {
        "id": "0BMqNQ3P-4ok"
      },
      "source": [
        "<img src=\"https://wandb.me/logo-im-png\" width=\"400\" alt=\"Weights & Biases\" />\n",
        "\n",
        "<!--- @wandbcode{sweeps-video} -->\n",
        "\n",
        "<div><img /></div>\n",
        "\n",
        "<img src=\"https://wandb.me/mini-diagram\" width=\"650\" alt=\"Weights & Biases\" />\n",
        "\n",
        "<div><img /></div>"
      ]
    },
    {
      "cell_type": "markdown",
      "metadata": {
        "id": "oq8bOZIi-4ok"
      },
      "source": [
        "Finding a machine learning model that meets your desired metric (such as model accuracy) is normally a redundant task that can take multiple iterations. To make matters worse, it might be unclear which hyperparameter combinations to use for a given training run.\n",
        "\n",
        "Use W&B Sweeps to create an organized and efficient way to automatically search through combinations of hyperparameter values such as the learning rate, batch size, number of hidden layers, optimizer type and more to find values that optimize your model based on your desired metric.\n",
        "\n",
        "In this tutorial you will create a hyperparameter search with W&B PyTorch integration. Follow along with a [video tutorial](http://wandb.me/sweeps-video)!\n",
        "\n",
        "![](https://i.imgur.com/WVKkMWw.png)\n",
        "\n",
        "## Sweeps: An Overview\n",
        "\n",
        "Running a hyperparameter sweep with Weights & Biases is very easy. There are just 3 simple steps:\n",
        "\n",
        "1. **Define the sweep:** we do this by creating a dictionary or a [YAML file](https://docs.wandb.com/library/sweeps/configuration) that specifies the parameters to search through, the search strategy, the optimization metric et all.\n",
        "\n",
        "2. **Initialize the sweep:** with one line of code we initialize the sweep and pass in the dictionary of sweep configurations:\n",
        "`sweep_id = wandb.sweep(sweep_config)`\n",
        "\n",
        "3. **Run the sweep agent:** also accomplished with one line of code, we call `wandb.agent()` and pass the `sweep_id` to run, along with a function that defines your model architecture and trains it:\n",
        "`wandb.agent(sweep_id, function=train)`\n"
      ]
    },
    {
      "cell_type": "markdown",
      "metadata": {
        "id": "asYRjfic-4ok"
      },
      "source": [
        "## Before you get started\n",
        "\n",
        "Install W&B and import the W&B Python SDK into your notebook:\n",
        "\n",
        "1. Install with `!pip install`:"
      ]
    },
    {
      "cell_type": "code",
      "execution_count": 1,
      "metadata": {
        "id": "rJG-bqyQ-4ol"
      },
      "outputs": [],
      "source": [
        "!pip install wandb -Uq"
      ]
    },
    {
      "cell_type": "markdown",
      "metadata": {
        "id": "NZdy-fsQ-4ol"
      },
      "source": [
        "2. Import W&B:"
      ]
    },
    {
      "cell_type": "code",
      "execution_count": 2,
      "metadata": {
        "id": "og-64dEj-4ol"
      },
      "outputs": [],
      "source": [
        "import wandb"
      ]
    },
    {
      "cell_type": "markdown",
      "metadata": {
        "id": "7hLgw5F1-4ol"
      },
      "source": [
        "3. Log in to W&B and provide your API key when prompted:"
      ]
    },
    {
      "cell_type": "code",
      "execution_count": 3,
      "metadata": {
        "id": "zaDFAx1z-4ol"
      },
      "outputs": [
        {
          "name": "stderr",
          "output_type": "stream",
          "text": [
            "\u001b[34m\u001b[1mwandb\u001b[0m: Currently logged in as: \u001b[33mhanlyang\u001b[0m to \u001b[32mhttps://api.wandb.ai\u001b[0m. Use \u001b[1m`wandb login --relogin`\u001b[0m to force relogin\n"
          ]
        },
        {
          "data": {
            "text/plain": [
              "True"
            ]
          },
          "execution_count": 3,
          "metadata": {},
          "output_type": "execute_result"
        }
      ],
      "source": [
        "wandb.login()"
      ]
    },
    {
      "cell_type": "markdown",
      "metadata": {
        "id": "vcaGWa4f-4ol"
      },
      "source": [
        "## Step 1️: Define a sweep\n",
        "\n",
        "A W&B Sweep combines a strategy for trying numerous hyperparameter values with the code that evaluates them.\n",
        "Before you start a sweep, you must define your sweep strategy with a _sweep configuration_.\n",
        "\n",
        "\n",
        ":::info\n",
        "The sweep configuration you create for a sweep must be in a nested dictionary if you start a sweep in a Jupyter Notebook.\n",
        "\n",
        "If you run a sweep within the command line, you must specify your sweep config with a [YAML file](https://docs.wandb.ai/guides/sweeps/define-sweep-configuration).\n",
        ":::"
      ]
    },
    {
      "cell_type": "markdown",
      "metadata": {
        "id": "JlElqVSP-4om"
      },
      "source": [
        "### Pick a search method"
      ]
    },
    {
      "cell_type": "markdown",
      "metadata": {
        "id": "6XnipVoq-4om"
      },
      "source": [
        "First, specify a hyperparameter search method within your configuration dictionary. [There are three hyperparameter search strategies to choose from: grid, random, and Bayesian search](https://docs.wandb.ai/guides/sweeps/sweep-config-keys#method).\n",
        "\n",
        "For this tutorial, you will use a random search. Within your notebook, create a dictionary and specify `random` for the `method` key."
      ]
    },
    {
      "cell_type": "code",
      "execution_count": 4,
      "metadata": {
        "id": "VHPdxG_d-4om"
      },
      "outputs": [],
      "source": [
        "sweep_config = {\n",
        "    'method': 'random'\n",
        "    }"
      ]
    },
    {
      "cell_type": "markdown",
      "metadata": {
        "id": "VWYx2SJA-4om"
      },
      "source": [
        "Specify a metric that you want to optimize for. You do not need to specify the metric and goal for sweeps that use random search method. However, it is good practice to keep track of your sweep goals because you can refer to it at a later time."
      ]
    },
    {
      "cell_type": "code",
      "execution_count": 5,
      "metadata": {
        "id": "c1uZ7vOf-4om"
      },
      "outputs": [],
      "source": [
        "metric = {\n",
        "    'name': 'loss',\n",
        "    'goal': 'minimize'\n",
        "    }\n",
        "\n",
        "sweep_config['metric'] = metric"
      ]
    },
    {
      "cell_type": "markdown",
      "metadata": {
        "id": "AnboijSq-4om"
      },
      "source": [
        "### Specify hyperparameters to search through\n",
        "\n",
        "Now that you have a search method specified in your sweep configuration, specify the hyperparameters you want to search over.\n",
        "\n",
        "To do this, specify one or more hyperparameter names to the `parameter` key and specify one or more hyperparameter values for the `value` key.\n",
        "\n",
        "The values you search through for a given hyperparamter depend on the the type of hyperparameter you are investigating.  \n",
        "\n",
        "For example, if you choose a machine learning optimizer, you must specify one or more finite optimizer names such as the Adam optimizer and stochastic gradient dissent."
      ]
    },
    {
      "cell_type": "code",
      "execution_count": 6,
      "metadata": {
        "id": "1rCGTCQO-4om"
      },
      "outputs": [],
      "source": [
        "parameters_dict = {\n",
        "    'optimizer': {\n",
        "        'values': ['adam', 'sgd']\n",
        "        },\n",
        "    'fc_layer_size': {\n",
        "        'values': [128, 256, 512]\n",
        "        },\n",
        "    'dropout': {\n",
        "          'values': [0.3, 0.4, 0.5]\n",
        "        },\n",
        "    }\n",
        "\n",
        "sweep_config['parameters'] = parameters_dict"
      ]
    },
    {
      "cell_type": "markdown",
      "metadata": {
        "id": "YxjnBZJr-4on"
      },
      "source": [
        "Sometimes you want to track a hyperparameter, but not vary its value. In this case, add the hyperparameter to your sweep configuration and specify the exact value that you want to use. For example, in the following code cell, `epochs` is set to 1."
      ]
    },
    {
      "cell_type": "code",
      "execution_count": 7,
      "metadata": {
        "id": "_poELzas-4on"
      },
      "outputs": [],
      "source": [
        "parameters_dict.update({\n",
        "    'epochs': {\n",
        "        'value': 1}\n",
        "    })"
      ]
    },
    {
      "cell_type": "markdown",
      "metadata": {
        "id": "VdMPMbwv-4on"
      },
      "source": [
        "For a `random` search,\n",
        "all the `values` of a parameter are equally likely to be chosen on a given run.\n",
        "\n",
        "Alternatively,\n",
        "you can specify a named `distribution`,\n",
        "plus its parameters, like the mean `mu`\n",
        "and standard deviation `sigma` of a `normal` distribution."
      ]
    },
    {
      "cell_type": "code",
      "execution_count": 8,
      "metadata": {
        "id": "oMEDF1Wk-4on"
      },
      "outputs": [],
      "source": [
        "parameters_dict.update({\n",
        "    'learning_rate': {\n",
        "        # a flat distribution between 0 and 0.1\n",
        "        'distribution': 'uniform',\n",
        "        'min': 0,\n",
        "        'max': 0.1\n",
        "      },\n",
        "    'batch_size': {\n",
        "        # integers between 32 and 256\n",
        "        # with evenly-distributed logarithms\n",
        "        'distribution': 'q_log_uniform_values',\n",
        "        'q': 8,\n",
        "        'min': 32,\n",
        "        'max': 256,\n",
        "      }\n",
        "    })"
      ]
    },
    {
      "cell_type": "markdown",
      "metadata": {
        "id": "1wIqPeZx-4on"
      },
      "source": [
        "When we're finished, `sweep_config` is a nested dictionary\n",
        "that specifies exactly which `parameters` we're interested in trying\n",
        "and the `method` we're going to use to try them.\n",
        "\n",
        "Let's see how the sweep configuration looks like:"
      ]
    },
    {
      "cell_type": "code",
      "execution_count": 9,
      "metadata": {
        "id": "1boePbOQ-4on"
      },
      "outputs": [
        {
          "name": "stdout",
          "output_type": "stream",
          "text": [
            "{'method': 'random',\n",
            " 'metric': {'goal': 'minimize', 'name': 'loss'},\n",
            " 'parameters': {'batch_size': {'distribution': 'q_log_uniform_values',\n",
            "                               'max': 256,\n",
            "                               'min': 32,\n",
            "                               'q': 8},\n",
            "                'dropout': {'values': [0.3, 0.4, 0.5]},\n",
            "                'epochs': {'value': 1},\n",
            "                'fc_layer_size': {'values': [128, 256, 512]},\n",
            "                'learning_rate': {'distribution': 'uniform',\n",
            "                                  'max': 0.1,\n",
            "                                  'min': 0},\n",
            "                'optimizer': {'values': ['adam', 'sgd']}}}\n"
          ]
        }
      ],
      "source": [
        "import pprint\n",
        "pprint.pprint(sweep_config)"
      ]
    },
    {
      "cell_type": "markdown",
      "metadata": {
        "id": "QcO2Lm2C-4on"
      },
      "source": [
        "For a full list of configuration options, see [Sweep configuration options](https://docs.wandb.ai/guides/sweeps/sweep-config-keys).\n",
        "\n",
        ":::tip\n",
        "For hyperparameters that have potentially infinite options,\n",
        "it usually makes sense to try out\n",
        "a few select `values`. For example, the preceding sweep configuration has a list of finite values specified for the `layer_size` and `dropout` parameter keys.\n",
        ":::"
      ]
    },
    {
      "cell_type": "markdown",
      "metadata": {
        "id": "7-cTmFxj-4on"
      },
      "source": [
        "## Step 2️: Initialize the Sweep\n",
        "\n",
        "Once you've defined the search strategy, it's time to set up something to implement it.\n",
        "\n",
        "W&B uses a Sweep Controller to manage sweeps on the cloud or locally across one or more machines. For this tutorial, you will use a sweep controller managed by W&B.\n",
        "\n",
        "While sweep controllers manage sweeps, the component that actually executes a sweep is known as a _sweep agent_.\n",
        "\n",
        "\n",
        ":::info\n",
        "By default, sweep controllers components are initiated on W&B's servers and sweep agents, the component that creates sweeps, are activated on your local machine.\n",
        ":::\n",
        "\n",
        "\n",
        "Within your notebook, you can activate a sweep controller with the `wandb.sweep` method. Pass your sweep configuration dictionary you defined earlier to the `sweep_config` field:"
      ]
    },
    {
      "cell_type": "code",
      "execution_count": 10,
      "metadata": {
        "id": "o1RXSph5-4on"
      },
      "outputs": [
        {
          "name": "stdout",
          "output_type": "stream",
          "text": [
            "Create sweep with ID: lsc8k80k\n",
            "Sweep URL: https://wandb.ai/hanlyang/pytorch-sweeps-demo/sweeps/lsc8k80k\n"
          ]
        }
      ],
      "source": [
        "sweep_id = wandb.sweep(sweep_config, project=\"pytorch-sweeps-demo\")"
      ]
    },
    {
      "cell_type": "markdown",
      "metadata": {
        "id": "RlmrbER5-4on"
      },
      "source": [
        "The `wandb.sweep` function returns a `sweep_id` that you will use at a later step to activate your sweep."
      ]
    },
    {
      "cell_type": "markdown",
      "metadata": {
        "id": "ty2TXzDs-4oo"
      },
      "source": [
        ":::info\n",
        "On the command line, this function is replaced with\n",
        "```python\n",
        "wandb sweep config.yaml\n",
        "```\n",
        ":::\n",
        "\n",
        "For more information on how to create W&B Sweeps in a terminal, see the [W&B Sweep walkthrough](https://docs.wandb.com/sweeps/walkthrough).\n"
      ]
    },
    {
      "cell_type": "markdown",
      "metadata": {
        "id": "Jg411LQ6-4oo"
      },
      "source": [
        "## Step 3:  Define your machine learning code\n",
        "\n",
        "Before you execute the sweep,\n",
        "define the training procedure that uses the hyperparameter values you want to try. The key to integrating W&B Sweeps into your training code is to ensure that, for each training experiment, that your training logic can access the hyperparameter values you defined in your sweep configuration.\n",
        "\n",
        "In the proceeding code example, the helper functions `build_dataset`, `build_network`, `build_optimizer`, and `train_epoch` access the sweep hyperparameter configuration dictionary.\n",
        "\n",
        "Run the proceeding machine learning training code in your notebook. The functions define a basic fully-connected neural network in PyTorch."
      ]
    },
    {
      "cell_type": "code",
      "execution_count": 15,
      "metadata": {
        "id": "1EyOEUqP-4oo"
      },
      "outputs": [
        {
          "name": "stdout",
          "output_type": "stream",
          "text": [
            "cpu\n"
          ]
        }
      ],
      "source": [
        "import torch\n",
        "import torch.optim as optim\n",
        "import torch.nn.functional as F\n",
        "import torch.nn as nn\n",
        "from torchvision import datasets, transforms\n",
        "\n",
        "device = torch.device(\"cuda\" if torch.cuda.is_available() else \"cpu\")\n",
        "print(device)\n",
        "\n",
        "def train(config=None):\n",
        "    # Initialize a new wandb run\n",
        "    with wandb.init(config=config):\n",
        "        # If called by wandb.agent, as below,\n",
        "        # this config will be set by Sweep Controller\n",
        "        config = wandb.config\n",
        "\n",
        "        loader = build_dataset(config.batch_size)\n",
        "        network = build_network(config.fc_layer_size, config.dropout)\n",
        "        optimizer = build_optimizer(network, config.optimizer, config.learning_rate)\n",
        "\n",
        "        for epoch in range(config.epochs):\n",
        "            avg_loss = train_epoch(network, loader, optimizer)\n",
        "            wandb.log({\"loss\": avg_loss, \"epoch\": epoch})"
      ]
    },
    {
      "cell_type": "markdown",
      "metadata": {
        "id": "IjaFqBgq-4oo"
      },
      "source": [
        "Within the `train` function, you will notice the following W&B Python SDK methods:\n",
        "* [`wandb.init()`](https://docs.wandb.com/library/init) – Initialize a new W&B run. Each run is a single execution of the training function.\n",
        "* [`wandb.config`](https://docs.wandb.com/library/config) – Pass sweep configuration with the hyperparameters you want to experiment with.\n",
        "* [`wandb.log()`](https://docs.wandb.com/library/log) – Log the training loss for each epoch.\n",
        "\n",
        "\n",
        "The proceeding cell defines four functions:\n",
        "`build_dataset`, `build_network`, `build_optimizer`, and `train_epoch`.\n",
        "These functions are a standard part of a basic PyTorch pipeline,\n",
        "and their implementation is unaffected by the use of W&B."
      ]
    },
    {
      "cell_type": "code",
      "execution_count": 12,
      "metadata": {
        "id": "Hyge9Ggj-4oo"
      },
      "outputs": [],
      "source": [
        "def build_dataset(batch_size):\n",
        "\n",
        "    transform = transforms.Compose(\n",
        "        [transforms.ToTensor(),\n",
        "         transforms.Normalize((0.1307,), (0.3081,))])\n",
        "    # download MNIST training dataset\n",
        "    dataset = datasets.MNIST(\".\", train=True, download=True,\n",
        "                             transform=transform)\n",
        "    sub_dataset = torch.utils.data.Subset(\n",
        "        dataset, indices=range(0, len(dataset), 5))\n",
        "    loader = torch.utils.data.DataLoader(sub_dataset, batch_size=batch_size)\n",
        "\n",
        "    return loader\n",
        "\n",
        "\n",
        "def build_network(fc_layer_size, dropout):\n",
        "    network = nn.Sequential(  # fully-connected, single hidden layer\n",
        "        nn.Flatten(),\n",
        "        nn.Linear(784, fc_layer_size), nn.ReLU(),\n",
        "        nn.Dropout(dropout),\n",
        "        nn.Linear(fc_layer_size, 10),\n",
        "        nn.LogSoftmax(dim=1))\n",
        "\n",
        "    return network.to(device)\n",
        "\n",
        "\n",
        "def build_optimizer(network, optimizer, learning_rate):\n",
        "    if optimizer == \"sgd\":\n",
        "        optimizer = optim.SGD(network.parameters(),\n",
        "                              lr=learning_rate, momentum=0.9)\n",
        "    elif optimizer == \"adam\":\n",
        "        optimizer = optim.Adam(network.parameters(),\n",
        "                               lr=learning_rate)\n",
        "    return optimizer\n",
        "\n",
        "\n",
        "def train_epoch(network, loader, optimizer):\n",
        "    cumu_loss = 0\n",
        "    for _, (data, target) in enumerate(loader):\n",
        "        data, target = data.to(device), target.to(device)\n",
        "        optimizer.zero_grad()\n",
        "\n",
        "        # ➡ Forward pass\n",
        "        loss = F.nll_loss(network(data), target)\n",
        "        cumu_loss += loss.item()\n",
        "\n",
        "        # ⬅ Backward pass + weight update\n",
        "        loss.backward()\n",
        "        optimizer.step()\n",
        "\n",
        "        wandb.log({\"batch loss\": loss.item()})\n",
        "\n",
        "    return cumu_loss / len(loader)"
      ]
    },
    {
      "cell_type": "markdown",
      "metadata": {
        "id": "u9c4Dics-4oo"
      },
      "source": [
        "For more details on instrumenting W&B with PyTorch, see [this Colab](https://colab.research.google.com/github/wandb/examples/blob/master/colabs/pytorch/Simple_PyTorch_Integration.ipynb)."
      ]
    },
    {
      "cell_type": "markdown",
      "metadata": {
        "id": "wovkR_Yz-4oo"
      },
      "source": [
        "## Step 4: Activate sweep agents\n",
        "Now that you have your sweep configuration defined and a training script that can utilize those hyperparameter in an interactive way, you are ready to activate a sweep agent. Sweep agents are responsible for running an experiment with a set of hyperparameter values that you defined in your sweep configuration.\n",
        "\n",
        "Create sweep agents with the `wandb.agent` method. Provide the following:\n",
        "1. The sweep the agent is a part of (`sweep_id`)\n",
        "2. The function the sweep is supposed to run. In this example, the sweep will use the `train` function.\n",
        "3. (optionally) How many configs to ask the sweep controller for (`count`)\n",
        "\n",
        ":::tip\n",
        "You can start multiple sweep agents with the same `sweep_id`\n",
        "on different compute resources. The sweep controller ensures that they work together\n",
        "according to the sweep configuration you defined.\n",
        ":::\n",
        "\n",
        "The proceeding cell activates a sweep agent that runs the training function (`train`) 5 times:"
      ]
    },
    {
      "cell_type": "code",
      "execution_count": 16,
      "metadata": {
        "id": "6lJCux5H-4op"
      },
      "outputs": [
        {
          "name": "stderr",
          "output_type": "stream",
          "text": [
            "\u001b[34m\u001b[1mwandb\u001b[0m: Agent Starting Run: 7zpw0aap with config:\n",
            "\u001b[34m\u001b[1mwandb\u001b[0m: \tbatch_size: 152\n",
            "\u001b[34m\u001b[1mwandb\u001b[0m: \tdropout: 0.3\n",
            "\u001b[34m\u001b[1mwandb\u001b[0m: \tepochs: 1\n",
            "\u001b[34m\u001b[1mwandb\u001b[0m: \tfc_layer_size: 128\n",
            "\u001b[34m\u001b[1mwandb\u001b[0m: \tlearning_rate: 0.09106079426326603\n",
            "\u001b[34m\u001b[1mwandb\u001b[0m: \toptimizer: sgd\n",
            "Traceback (most recent call last):\n",
            "  File \"c:\\Users\\500ny\\.conda\\envs\\MLStudy\\Lib\\site-packages\\wandb\\agents\\pyagent.py\", line 297, in _run_job\n",
            "    self._function()\n",
            "  File \"C:\\Users\\500ny\\AppData\\Local\\Temp\\ipykernel_37740\\1352870643.py\", line 12, in train\n",
            "    with wandb.init(config=config):\n",
            "         ^^^^^^^^^^^^^^^^^^^^^^^^^\n",
            "  File \"c:\\Users\\500ny\\.conda\\envs\\MLStudy\\Lib\\site-packages\\wandb\\sdk\\wandb_init.py\", line 1601, in init\n",
            "    wandb._sentry.reraise(e)\n",
            "  File \"c:\\Users\\500ny\\.conda\\envs\\MLStudy\\Lib\\site-packages\\wandb\\analytics\\sentry.py\", line 162, in reraise\n",
            "    raise exc.with_traceback(sys.exc_info()[2])\n",
            "  File \"c:\\Users\\500ny\\.conda\\envs\\MLStudy\\Lib\\site-packages\\wandb\\sdk\\wandb_init.py\", line 1582, in init\n",
            "    run = wi.init(run_settings, run_config, run_printer)\n",
            "          ^^^^^^^^^^^^^^^^^^^^^^^^^^^^^^^^^^^^^^^^^^^^^^\n",
            "  File \"c:\\Users\\500ny\\.conda\\envs\\MLStudy\\Lib\\site-packages\\wandb\\sdk\\wandb_init.py\", line 1004, in init\n",
            "    result = wait_with_progress(\n",
            "             ^^^^^^^^^^^^^^^^^^^\n",
            "  File \"c:\\Users\\500ny\\.conda\\envs\\MLStudy\\Lib\\site-packages\\wandb\\sdk\\mailbox\\wait_with_progress.py\", line 23, in wait_with_progress\n",
            "    return wait_all_with_progress(\n",
            "           ^^^^^^^^^^^^^^^^^^^^^^^\n",
            "  File \"c:\\Users\\500ny\\.conda\\envs\\MLStudy\\Lib\\site-packages\\wandb\\sdk\\mailbox\\wait_with_progress.py\", line 77, in wait_all_with_progress\n",
            "    return asyncer.run(progress_loop_with_timeout)\n",
            "           ^^^^^^^^^^^^^^^^^^^^^^^^^^^^^^^^^^^^^^^\n",
            "  File \"c:\\Users\\500ny\\.conda\\envs\\MLStudy\\Lib\\site-packages\\wandb\\sdk\\lib\\asyncio_manager.py\", line 136, in run\n",
            "    return future.result()\n",
            "           ^^^^^^^^^^^^^^^\n",
            "  File \"c:\\Users\\500ny\\.conda\\envs\\MLStudy\\Lib\\concurrent\\futures\\_base.py\", line 456, in result\n",
            "    return self.__get_result()\n",
            "           ^^^^^^^^^^^^^^^^^^^\n",
            "  File \"c:\\Users\\500ny\\.conda\\envs\\MLStudy\\Lib\\concurrent\\futures\\_base.py\", line 401, in __get_result\n",
            "    raise self._exception\n",
            "  File \"c:\\Users\\500ny\\.conda\\envs\\MLStudy\\Lib\\site-packages\\wandb\\sdk\\lib\\asyncio_manager.py\", line 219, in _wrap\n",
            "    return await fn()\n",
            "           ^^^^^^^^^^\n",
            "  File \"c:\\Users\\500ny\\.conda\\envs\\MLStudy\\Lib\\site-packages\\wandb\\sdk\\mailbox\\wait_with_progress.py\", line 65, in progress_loop_with_timeout\n",
            "    async with asyncio_compat.cancel_on_exit(display_progress()):\n",
            "  File \"c:\\Users\\500ny\\.conda\\envs\\MLStudy\\Lib\\contextlib.py\", line 217, in __aexit__\n",
            "    await anext(self.gen)\n",
            "  File \"c:\\Users\\500ny\\.conda\\envs\\MLStudy\\Lib\\site-packages\\wandb\\sdk\\lib\\asyncio_compat.py\", line 257, in cancel_on_exit\n",
            "    async with open_task_group(race=True) as group:\n",
            "  File \"c:\\Users\\500ny\\.conda\\envs\\MLStudy\\Lib\\contextlib.py\", line 217, in __aexit__\n",
            "    await anext(self.gen)\n",
            "  File \"c:\\Users\\500ny\\.conda\\envs\\MLStudy\\Lib\\site-packages\\wandb\\sdk\\lib\\asyncio_compat.py\", line 240, in open_task_group\n",
            "    await task_group._wait_all(race=race, timeout=exit_timeout)\n",
            "  File \"c:\\Users\\500ny\\.conda\\envs\\MLStudy\\Lib\\site-packages\\wandb\\sdk\\lib\\asyncio_compat.py\", line 180, in _wait_all\n",
            "    raise exc\n",
            "  File \"c:\\Users\\500ny\\.conda\\envs\\MLStudy\\Lib\\site-packages\\wandb\\sdk\\wandb_init.py\", line 994, in display_init_message\n",
            "    with progress.progress_printer(\n",
            "  File \"c:\\Users\\500ny\\.conda\\envs\\MLStudy\\Lib\\contextlib.py\", line 137, in __enter__\n",
            "    return next(self.gen)\n",
            "           ^^^^^^^^^^^^^^\n",
            "  File \"c:\\Users\\500ny\\.conda\\envs\\MLStudy\\Lib\\site-packages\\wandb\\sdk\\lib\\progress.py\", line 76, in progress_printer\n",
            "    with printer.dynamic_text() as text_area:\n",
            "  File \"c:\\Users\\500ny\\.conda\\envs\\MLStudy\\Lib\\contextlib.py\", line 137, in __enter__\n",
            "    return next(self.gen)\n",
            "           ^^^^^^^^^^^^^^\n",
            "  File \"c:\\Users\\500ny\\.conda\\envs\\MLStudy\\Lib\\site-packages\\wandb\\sdk\\lib\\printer.py\", line 453, in dynamic_text\n",
            "    handle = self._ipython_display.display(\n",
            "             ^^^^^^^^^^^^^^^^^^^^^^^^^^^^^^\n",
            "  File \"c:\\Users\\500ny\\.conda\\envs\\MLStudy\\Lib\\site-packages\\IPython\\core\\display_functions.py\", line 285, in display\n",
            "    publish_display_data(data=format_dict, metadata=md_dict, **kwargs)\n",
            "  File \"c:\\Users\\500ny\\.conda\\envs\\MLStudy\\Lib\\site-packages\\IPython\\core\\display_functions.py\", line 73, in publish_display_data\n",
            "    display_pub.publish(\n",
            "  File \"c:\\Users\\500ny\\.conda\\envs\\MLStudy\\Lib\\site-packages\\wandb\\sdk\\wandb_init.py\", line 635, in publish\n",
            "    ipython.display_pub._orig_publish(data, metadata=metadata, **kwargs)\n",
            "  File \"c:\\Users\\500ny\\.conda\\envs\\MLStudy\\Lib\\site-packages\\ipykernel\\zmqshell.py\", line 135, in publish\n",
            "    msg = self.session.msg(msg_type, json_clean(content), parent=self.parent_header)\n",
            "                                                                 ^^^^^^^^^^^^^^^^^^\n",
            "  File \"c:\\Users\\500ny\\.conda\\envs\\MLStudy\\Lib\\site-packages\\ipykernel\\zmqshell.py\", line 69, in parent_header\n",
            "    return self._parent_header.get()\n",
            "           ^^^^^^^^^^^^^^^^^^^^^^^^^\n",
            "LookupError: <ContextVar name='parent_header' at 0x0000029AFE3AA7F0>\n",
            "\n",
            "\u001b[34m\u001b[1mwandb\u001b[0m: \u001b[32m\u001b[41mERROR\u001b[0m Run 7zpw0aap errored: <ContextVar name='parent_header' at 0x0000029AFE3AA7F0>\n",
            "\u001b[34m\u001b[1mwandb\u001b[0m: Agent Starting Run: pu17tzey with config:\n",
            "\u001b[34m\u001b[1mwandb\u001b[0m: \tbatch_size: 104\n",
            "\u001b[34m\u001b[1mwandb\u001b[0m: \tdropout: 0.5\n",
            "\u001b[34m\u001b[1mwandb\u001b[0m: \tepochs: 1\n",
            "\u001b[34m\u001b[1mwandb\u001b[0m: \tfc_layer_size: 512\n",
            "\u001b[34m\u001b[1mwandb\u001b[0m: \tlearning_rate: 0.030104281696054436\n",
            "\u001b[34m\u001b[1mwandb\u001b[0m: \toptimizer: sgd\n",
            "Traceback (most recent call last):\n",
            "  File \"c:\\Users\\500ny\\.conda\\envs\\MLStudy\\Lib\\site-packages\\wandb\\agents\\pyagent.py\", line 297, in _run_job\n",
            "    self._function()\n",
            "  File \"C:\\Users\\500ny\\AppData\\Local\\Temp\\ipykernel_37740\\1352870643.py\", line 12, in train\n",
            "    with wandb.init(config=config):\n",
            "         ^^^^^^^^^^^^^^^^^^^^^^^^^\n",
            "  File \"c:\\Users\\500ny\\.conda\\envs\\MLStudy\\Lib\\site-packages\\wandb\\sdk\\wandb_init.py\", line 1601, in init\n",
            "    wandb._sentry.reraise(e)\n",
            "  File \"c:\\Users\\500ny\\.conda\\envs\\MLStudy\\Lib\\site-packages\\wandb\\analytics\\sentry.py\", line 162, in reraise\n",
            "    raise exc.with_traceback(sys.exc_info()[2])\n",
            "  File \"c:\\Users\\500ny\\.conda\\envs\\MLStudy\\Lib\\site-packages\\wandb\\sdk\\wandb_init.py\", line 1582, in init\n",
            "    run = wi.init(run_settings, run_config, run_printer)\n",
            "          ^^^^^^^^^^^^^^^^^^^^^^^^^^^^^^^^^^^^^^^^^^^^^^\n",
            "  File \"c:\\Users\\500ny\\.conda\\envs\\MLStudy\\Lib\\site-packages\\wandb\\sdk\\wandb_init.py\", line 1004, in init\n",
            "    result = wait_with_progress(\n",
            "             ^^^^^^^^^^^^^^^^^^^\n",
            "  File \"c:\\Users\\500ny\\.conda\\envs\\MLStudy\\Lib\\site-packages\\wandb\\sdk\\mailbox\\wait_with_progress.py\", line 23, in wait_with_progress\n",
            "    return wait_all_with_progress(\n",
            "           ^^^^^^^^^^^^^^^^^^^^^^^\n",
            "  File \"c:\\Users\\500ny\\.conda\\envs\\MLStudy\\Lib\\site-packages\\wandb\\sdk\\mailbox\\wait_with_progress.py\", line 77, in wait_all_with_progress\n",
            "    return asyncer.run(progress_loop_with_timeout)\n",
            "           ^^^^^^^^^^^^^^^^^^^^^^^^^^^^^^^^^^^^^^^\n",
            "  File \"c:\\Users\\500ny\\.conda\\envs\\MLStudy\\Lib\\site-packages\\wandb\\sdk\\lib\\asyncio_manager.py\", line 136, in run\n",
            "    return future.result()\n",
            "           ^^^^^^^^^^^^^^^\n",
            "  File \"c:\\Users\\500ny\\.conda\\envs\\MLStudy\\Lib\\concurrent\\futures\\_base.py\", line 456, in result\n",
            "    return self.__get_result()\n",
            "           ^^^^^^^^^^^^^^^^^^^\n",
            "  File \"c:\\Users\\500ny\\.conda\\envs\\MLStudy\\Lib\\concurrent\\futures\\_base.py\", line 401, in __get_result\n",
            "    raise self._exception\n",
            "  File \"c:\\Users\\500ny\\.conda\\envs\\MLStudy\\Lib\\site-packages\\wandb\\sdk\\lib\\asyncio_manager.py\", line 219, in _wrap\n",
            "    return await fn()\n",
            "           ^^^^^^^^^^\n",
            "  File \"c:\\Users\\500ny\\.conda\\envs\\MLStudy\\Lib\\site-packages\\wandb\\sdk\\mailbox\\wait_with_progress.py\", line 65, in progress_loop_with_timeout\n",
            "    async with asyncio_compat.cancel_on_exit(display_progress()):\n",
            "  File \"c:\\Users\\500ny\\.conda\\envs\\MLStudy\\Lib\\contextlib.py\", line 217, in __aexit__\n",
            "    await anext(self.gen)\n",
            "  File \"c:\\Users\\500ny\\.conda\\envs\\MLStudy\\Lib\\site-packages\\wandb\\sdk\\lib\\asyncio_compat.py\", line 257, in cancel_on_exit\n",
            "    async with open_task_group(race=True) as group:\n",
            "  File \"c:\\Users\\500ny\\.conda\\envs\\MLStudy\\Lib\\contextlib.py\", line 217, in __aexit__\n",
            "    await anext(self.gen)\n",
            "  File \"c:\\Users\\500ny\\.conda\\envs\\MLStudy\\Lib\\site-packages\\wandb\\sdk\\lib\\asyncio_compat.py\", line 240, in open_task_group\n",
            "    await task_group._wait_all(race=race, timeout=exit_timeout)\n",
            "  File \"c:\\Users\\500ny\\.conda\\envs\\MLStudy\\Lib\\site-packages\\wandb\\sdk\\lib\\asyncio_compat.py\", line 180, in _wait_all\n",
            "    raise exc\n",
            "  File \"c:\\Users\\500ny\\.conda\\envs\\MLStudy\\Lib\\site-packages\\wandb\\sdk\\wandb_init.py\", line 994, in display_init_message\n",
            "    with progress.progress_printer(\n",
            "  File \"c:\\Users\\500ny\\.conda\\envs\\MLStudy\\Lib\\contextlib.py\", line 137, in __enter__\n",
            "    return next(self.gen)\n",
            "           ^^^^^^^^^^^^^^\n",
            "  File \"c:\\Users\\500ny\\.conda\\envs\\MLStudy\\Lib\\site-packages\\wandb\\sdk\\lib\\progress.py\", line 76, in progress_printer\n",
            "    with printer.dynamic_text() as text_area:\n",
            "  File \"c:\\Users\\500ny\\.conda\\envs\\MLStudy\\Lib\\contextlib.py\", line 137, in __enter__\n",
            "    return next(self.gen)\n",
            "           ^^^^^^^^^^^^^^\n",
            "  File \"c:\\Users\\500ny\\.conda\\envs\\MLStudy\\Lib\\site-packages\\wandb\\sdk\\lib\\printer.py\", line 453, in dynamic_text\n",
            "    handle = self._ipython_display.display(\n",
            "             ^^^^^^^^^^^^^^^^^^^^^^^^^^^^^^\n",
            "  File \"c:\\Users\\500ny\\.conda\\envs\\MLStudy\\Lib\\site-packages\\IPython\\core\\display_functions.py\", line 285, in display\n",
            "    publish_display_data(data=format_dict, metadata=md_dict, **kwargs)\n",
            "  File \"c:\\Users\\500ny\\.conda\\envs\\MLStudy\\Lib\\site-packages\\IPython\\core\\display_functions.py\", line 73, in publish_display_data\n",
            "    display_pub.publish(\n",
            "  File \"c:\\Users\\500ny\\.conda\\envs\\MLStudy\\Lib\\site-packages\\wandb\\sdk\\wandb_init.py\", line 635, in publish\n",
            "    ipython.display_pub._orig_publish(data, metadata=metadata, **kwargs)\n",
            "  File \"c:\\Users\\500ny\\.conda\\envs\\MLStudy\\Lib\\site-packages\\ipykernel\\zmqshell.py\", line 135, in publish\n",
            "    msg = self.session.msg(msg_type, json_clean(content), parent=self.parent_header)\n",
            "                                                                 ^^^^^^^^^^^^^^^^^^\n",
            "  File \"c:\\Users\\500ny\\.conda\\envs\\MLStudy\\Lib\\site-packages\\ipykernel\\zmqshell.py\", line 69, in parent_header\n",
            "    return self._parent_header.get()\n",
            "           ^^^^^^^^^^^^^^^^^^^^^^^^^\n",
            "LookupError: <ContextVar name='parent_header' at 0x0000029AFE3AA7F0>\n",
            "\n",
            "\u001b[34m\u001b[1mwandb\u001b[0m: \u001b[32m\u001b[41mERROR\u001b[0m Run pu17tzey errored: <ContextVar name='parent_header' at 0x0000029AFE3AA7F0>\n",
            "\u001b[34m\u001b[1mwandb\u001b[0m: Agent Starting Run: 0c4pdo3c with config:\n",
            "\u001b[34m\u001b[1mwandb\u001b[0m: \tbatch_size: 40\n",
            "\u001b[34m\u001b[1mwandb\u001b[0m: \tdropout: 0.4\n",
            "\u001b[34m\u001b[1mwandb\u001b[0m: \tepochs: 1\n",
            "\u001b[34m\u001b[1mwandb\u001b[0m: \tfc_layer_size: 128\n",
            "\u001b[34m\u001b[1mwandb\u001b[0m: \tlearning_rate: 0.02975569870734566\n",
            "\u001b[34m\u001b[1mwandb\u001b[0m: \toptimizer: sgd\n",
            "Traceback (most recent call last):\n",
            "  File \"c:\\Users\\500ny\\.conda\\envs\\MLStudy\\Lib\\site-packages\\wandb\\agents\\pyagent.py\", line 297, in _run_job\n",
            "    self._function()\n",
            "  File \"C:\\Users\\500ny\\AppData\\Local\\Temp\\ipykernel_37740\\1352870643.py\", line 12, in train\n",
            "    with wandb.init(config=config):\n",
            "         ^^^^^^^^^^^^^^^^^^^^^^^^^\n",
            "  File \"c:\\Users\\500ny\\.conda\\envs\\MLStudy\\Lib\\site-packages\\wandb\\sdk\\wandb_init.py\", line 1601, in init\n",
            "    wandb._sentry.reraise(e)\n",
            "  File \"c:\\Users\\500ny\\.conda\\envs\\MLStudy\\Lib\\site-packages\\wandb\\analytics\\sentry.py\", line 162, in reraise\n",
            "    raise exc.with_traceback(sys.exc_info()[2])\n",
            "  File \"c:\\Users\\500ny\\.conda\\envs\\MLStudy\\Lib\\site-packages\\wandb\\sdk\\wandb_init.py\", line 1582, in init\n",
            "    run = wi.init(run_settings, run_config, run_printer)\n",
            "          ^^^^^^^^^^^^^^^^^^^^^^^^^^^^^^^^^^^^^^^^^^^^^^\n",
            "  File \"c:\\Users\\500ny\\.conda\\envs\\MLStudy\\Lib\\site-packages\\wandb\\sdk\\wandb_init.py\", line 1004, in init\n",
            "    result = wait_with_progress(\n",
            "             ^^^^^^^^^^^^^^^^^^^\n",
            "  File \"c:\\Users\\500ny\\.conda\\envs\\MLStudy\\Lib\\site-packages\\wandb\\sdk\\mailbox\\wait_with_progress.py\", line 23, in wait_with_progress\n",
            "    return wait_all_with_progress(\n",
            "           ^^^^^^^^^^^^^^^^^^^^^^^\n",
            "  File \"c:\\Users\\500ny\\.conda\\envs\\MLStudy\\Lib\\site-packages\\wandb\\sdk\\mailbox\\wait_with_progress.py\", line 77, in wait_all_with_progress\n",
            "    return asyncer.run(progress_loop_with_timeout)\n",
            "           ^^^^^^^^^^^^^^^^^^^^^^^^^^^^^^^^^^^^^^^\n",
            "  File \"c:\\Users\\500ny\\.conda\\envs\\MLStudy\\Lib\\site-packages\\wandb\\sdk\\lib\\asyncio_manager.py\", line 136, in run\n",
            "    return future.result()\n",
            "           ^^^^^^^^^^^^^^^\n",
            "  File \"c:\\Users\\500ny\\.conda\\envs\\MLStudy\\Lib\\concurrent\\futures\\_base.py\", line 456, in result\n",
            "    return self.__get_result()\n",
            "           ^^^^^^^^^^^^^^^^^^^\n",
            "  File \"c:\\Users\\500ny\\.conda\\envs\\MLStudy\\Lib\\concurrent\\futures\\_base.py\", line 401, in __get_result\n",
            "    raise self._exception\n",
            "  File \"c:\\Users\\500ny\\.conda\\envs\\MLStudy\\Lib\\site-packages\\wandb\\sdk\\lib\\asyncio_manager.py\", line 219, in _wrap\n",
            "    return await fn()\n",
            "           ^^^^^^^^^^\n",
            "  File \"c:\\Users\\500ny\\.conda\\envs\\MLStudy\\Lib\\site-packages\\wandb\\sdk\\mailbox\\wait_with_progress.py\", line 65, in progress_loop_with_timeout\n",
            "    async with asyncio_compat.cancel_on_exit(display_progress()):\n",
            "  File \"c:\\Users\\500ny\\.conda\\envs\\MLStudy\\Lib\\contextlib.py\", line 217, in __aexit__\n",
            "    await anext(self.gen)\n",
            "  File \"c:\\Users\\500ny\\.conda\\envs\\MLStudy\\Lib\\site-packages\\wandb\\sdk\\lib\\asyncio_compat.py\", line 257, in cancel_on_exit\n",
            "    async with open_task_group(race=True) as group:\n",
            "  File \"c:\\Users\\500ny\\.conda\\envs\\MLStudy\\Lib\\contextlib.py\", line 217, in __aexit__\n",
            "    await anext(self.gen)\n",
            "  File \"c:\\Users\\500ny\\.conda\\envs\\MLStudy\\Lib\\site-packages\\wandb\\sdk\\lib\\asyncio_compat.py\", line 240, in open_task_group\n",
            "    await task_group._wait_all(race=race, timeout=exit_timeout)\n",
            "  File \"c:\\Users\\500ny\\.conda\\envs\\MLStudy\\Lib\\site-packages\\wandb\\sdk\\lib\\asyncio_compat.py\", line 180, in _wait_all\n",
            "    raise exc\n",
            "  File \"c:\\Users\\500ny\\.conda\\envs\\MLStudy\\Lib\\site-packages\\wandb\\sdk\\wandb_init.py\", line 994, in display_init_message\n",
            "    with progress.progress_printer(\n",
            "  File \"c:\\Users\\500ny\\.conda\\envs\\MLStudy\\Lib\\contextlib.py\", line 137, in __enter__\n",
            "    return next(self.gen)\n",
            "           ^^^^^^^^^^^^^^\n",
            "  File \"c:\\Users\\500ny\\.conda\\envs\\MLStudy\\Lib\\site-packages\\wandb\\sdk\\lib\\progress.py\", line 76, in progress_printer\n",
            "    with printer.dynamic_text() as text_area:\n",
            "  File \"c:\\Users\\500ny\\.conda\\envs\\MLStudy\\Lib\\contextlib.py\", line 137, in __enter__\n",
            "    return next(self.gen)\n",
            "           ^^^^^^^^^^^^^^\n",
            "  File \"c:\\Users\\500ny\\.conda\\envs\\MLStudy\\Lib\\site-packages\\wandb\\sdk\\lib\\printer.py\", line 453, in dynamic_text\n",
            "    handle = self._ipython_display.display(\n",
            "             ^^^^^^^^^^^^^^^^^^^^^^^^^^^^^^\n",
            "  File \"c:\\Users\\500ny\\.conda\\envs\\MLStudy\\Lib\\site-packages\\IPython\\core\\display_functions.py\", line 285, in display\n",
            "    publish_display_data(data=format_dict, metadata=md_dict, **kwargs)\n",
            "  File \"c:\\Users\\500ny\\.conda\\envs\\MLStudy\\Lib\\site-packages\\IPython\\core\\display_functions.py\", line 73, in publish_display_data\n",
            "    display_pub.publish(\n",
            "  File \"c:\\Users\\500ny\\.conda\\envs\\MLStudy\\Lib\\site-packages\\wandb\\sdk\\wandb_init.py\", line 635, in publish\n",
            "    ipython.display_pub._orig_publish(data, metadata=metadata, **kwargs)\n",
            "  File \"c:\\Users\\500ny\\.conda\\envs\\MLStudy\\Lib\\site-packages\\ipykernel\\zmqshell.py\", line 135, in publish\n",
            "    msg = self.session.msg(msg_type, json_clean(content), parent=self.parent_header)\n",
            "                                                                 ^^^^^^^^^^^^^^^^^^\n",
            "  File \"c:\\Users\\500ny\\.conda\\envs\\MLStudy\\Lib\\site-packages\\ipykernel\\zmqshell.py\", line 69, in parent_header\n",
            "    return self._parent_header.get()\n",
            "           ^^^^^^^^^^^^^^^^^^^^^^^^^\n",
            "LookupError: <ContextVar name='parent_header' at 0x0000029AFE3AA7F0>\n",
            "\n",
            "\u001b[34m\u001b[1mwandb\u001b[0m: \u001b[32m\u001b[41mERROR\u001b[0m Run 0c4pdo3c errored: <ContextVar name='parent_header' at 0x0000029AFE3AA7F0>\n",
            "\u001b[34m\u001b[1mwandb\u001b[0m: \u001b[32m\u001b[41mERROR\u001b[0m Detected 3 failed runs in the first 60 seconds, killing sweep.\n",
            "\u001b[34m\u001b[1mwandb\u001b[0m: To disable this check set WANDB_AGENT_DISABLE_FLAPPING=true\n"
          ]
        }
      ],
      "source": [
        "wandb.agent(sweep_id, train, count=5)"
      ]
    },
    {
      "cell_type": "markdown",
      "metadata": {
        "id": "1gEDxXet-4op"
      },
      "source": [
        ":::info\n",
        "Since the `random` search method was specified in the sweep configuration, the sweep controller provides randomly-generated hyperparameter values.\n",
        ":::\n",
        "\n",
        "For more information on how to create W&B Sweeps in a terminal, see the [W&B Sweep walkthrough](https://docs.wandb.com/sweeps/walkthrough)."
      ]
    },
    {
      "cell_type": "markdown",
      "metadata": {
        "id": "lSmGcmR3-4op"
      },
      "source": [
        "## Visualize Sweep Results\n"
      ]
    },
    {
      "cell_type": "markdown",
      "metadata": {
        "id": "Qf1SKxs7-4op"
      },
      "source": [
        "\n",
        "### Parallel Coordinates Plot\n",
        "This plot maps hyperparameter values to model metrics. It’s useful for honing in on combinations of hyperparameters that led to the best model performance.\n",
        "\n",
        "![](https://assets.website-files.com/5ac6b7f2924c652fd013a891/5e190366778ad831455f9af2_s_194708415DEC35F74A7691FF6810D3B14703D1EFE1672ED29000BA98171242A5_1578695138341_image.png)\n"
      ]
    },
    {
      "cell_type": "markdown",
      "metadata": {
        "id": "OrwVKQOp-4op"
      },
      "source": [
        "### Hyperparameter Importance Plot\n",
        "The hyperparameter importance plot surfaces which hyperparameters were the best predictors of your metrics.\n",
        "We report feature importance (from a random forest model) and correlation (implicitly a linear model).\n",
        "\n",
        "![](https://assets.website-files.com/5ac6b7f2924c652fd013a891/5e190367778ad820b35f9af5_s_194708415DEC35F74A7691FF6810D3B14703D1EFE1672ED29000BA98171242A5_1578695757573_image.png)\n",
        "\n",
        "These visualizations can help you save both time and resources running expensive hyperparameter optimizations by honing in on the parameters (and value ranges) that are the most important, and thereby worthy of further exploration.\n"
      ]
    },
    {
      "cell_type": "markdown",
      "metadata": {
        "id": "e3GWqHU0-4os"
      },
      "source": [
        "## Learn more about W&B Sweeps\n",
        "\n",
        "We created a simple training script and [a few flavors of sweep configs](https://github.com/wandb/examples/tree/master/examples/keras/keras-cnn-fashion) for you to play with. We highly encourage you to give these a try.\n",
        "\n",
        "That repo also has examples to help you try more advanced sweep features like [Bayesian Hyperband](https://app.wandb.ai/wandb/examples-keras-cnn-fashion/sweeps/us0ifmrf?workspace=user-lavanyashukla), and [Hyperopt](https://app.wandb.ai/wandb/examples-keras-cnn-fashion/sweeps/xbs2wm5e?workspace=user-lavanyashukla)."
      ]
    }
  ],
  "metadata": {
    "accelerator": "GPU",
    "colab": {
      "provenance": [],
      "toc_visible": true
    },
    "kernelspec": {
      "display_name": "MLStudy",
      "language": "python",
      "name": "python3"
    },
    "language_info": {
      "codemirror_mode": {
        "name": "ipython",
        "version": 3
      },
      "file_extension": ".py",
      "mimetype": "text/x-python",
      "name": "python",
      "nbconvert_exporter": "python",
      "pygments_lexer": "ipython3",
      "version": "3.11.13"
    }
  },
  "nbformat": 4,
  "nbformat_minor": 0
}
